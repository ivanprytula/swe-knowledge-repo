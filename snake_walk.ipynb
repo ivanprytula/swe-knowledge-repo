{
 "cells": [
  {
   "cell_type": "markdown",
   "metadata": {
    "slideshow": {
     "slide_type": "slide"
    }
   },
   "source": [
    "# Ace Python Interview\n",
    "\n",
    "## Questions\n",
    "\n",
    "### General\n",
    "\n",
    "- Q1. Mutable vs. Immutable types\n",
    "\t- What data types are in Python?\n",
    "\t- How we can use knowledge about mutable and immutable data types?\n",
    "\t- Write example | explain this code: \n",
    "\n",
    "\n",
    "### With three sub-levels\n",
    "\n",
    "- Q1"
   ]
  },
  {
   "cell_type": "markdown",
   "metadata": {},
   "source": [
    "#### Tech interview, peer-to-peer, 29.08, Slack\n",
    "\n",
    "##### My questions\n",
    "\n",
    "1. What is Python? Name some characteristics of Python?\n",
    "2. What are the built-in data types that Python provides? Which of them are immutable/mutable?\n",
    "3. Explain this code: a, b = b, a\n",
    "4. Name as many as you know Python keywords\n",
    "5. What is *beans, **dwargs in function definition? And why would we use it?\n",
    "6. What is docstring in Python?\n",
    "7. When to use a tuple vs list vs dictionary in Python?\n",
    "8. How SQL query is executed? Which statement is the first one?\n",
    "9. How and what for `__slots__` attribute was introduced into Python specification?\n",
    "10. What linters, formatters, type checkers do you like to use in your projects?\n"
   ]
  },
  {
   "cell_type": "markdown",
   "metadata": {},
   "source": [
    "homework\n",
    "\n",
    "1. DB indexes: B-tree log(n), balanced tree, auto increment, PK. For compound PK - need another indexes\n",
    "2. cooperative concurrency and multitasking, semaphore, mutex.\n",
    "3. asynchronous: 2000 sockets, 100 are free now. Python lib: select, selectors (STL) - they implement concept of \"non-blocking sockets\" on OS level.\n",
    "4. levels of transactions, what anomalies each of them solve, ACID. Read the book: \"7 DBs for 7 days\". In Django there is method raw(), data mapper\n",
    "5. \"Clean architecture\" (Robert Martin). What is architecture: framework is infra for architecture. Use DTO. Use 'repository'(!) approach/interface. Read about DAO concept. DI - dependency inversion (container). Unit test is better with 'repository', abstraction.\n",
    "6. ! \"Architecture Patterns with Python\", 2020, by Harry Percival, Bob Gregory (it's good to read this book).\n",
    "7. Event-driven, event sourcing, microservices, Pub/Sub, Redis, RabittMQ. Business logic generates some events >> other services reacts on these events (e.g., in JSON format).\n",
    "8. RESTful, GraphQL, gRPC.\n",
    "9. Pay attention: Business logic (!)\n",
    "10. Pay attention: OS (!)\n",
    "11. Convert non-functional reqs in to \"money flow\". All tools are made for business optimization.\n",
    "12. Почитати \"Підготовка до складного інтерв'ю\".\n",
    "\n",
    "\n",
    "Pluses and minues of <name_the_tool/technology>"
   ]
  },
  {
   "cell_type": "markdown",
   "metadata": {},
   "source": []
  }
 ],
 "metadata": {
  "kernelspec": {
   "display_name": "Python 3",
   "language": "python",
   "name": "python3"
  },
  "language_info": {
   "codemirror_mode": {
    "name": "ipython",
    "version": 3
   },
   "file_extension": ".py",
   "mimetype": "text/x-python",
   "name": "python",
   "nbconvert_exporter": "python",
   "pygments_lexer": "ipython3",
   "version": "3.11.4"
  },
  "orig_nbformat": 4
 },
 "nbformat": 4,
 "nbformat_minor": 2
}
